{
 "cells": [
  {
   "cell_type": "markdown",
   "metadata": {},
   "source": [
    "<div style=\"background-color: RGB(51,165,182);\" >\n",
    "<h2 style=\"margin: auto; padding: 20px; color:#fff; \">Application de prédiction de billets Vrai/Faux</h2>\n",
    "</div>"
   ]
  },
  {
   "cell_type": "code",
   "execution_count": 1,
   "metadata": {},
   "outputs": [
    {
     "name": "stdout",
     "output_type": "stream",
     "text": [
      "    id prediction  probabilité\n",
      "0  B_1       Vrai         1.00\n",
      "1  B_2       Faux         0.67\n",
      "2  B_3       Vrai         0.99\n",
      "3  B_4       Faux         0.71\n",
      "4  B_5       Faux         0.63\n"
     ]
    }
   ],
   "source": [
    "import pandas as pd\n",
    "import joblib\n",
    "import numpy as np\n",
    "\n",
    "# Charger le modèle Random Forest entraîné\n",
    "random_forest_model = joblib.load('random_forest_model.pkl')\n",
    "\n",
    "df_test = pd.read_csv('billets_production.csv')\n",
    "X = df_test.drop(columns=['id'])\n",
    "\n",
    "# Ajouter la colonne 'cluster' si elle n'existe pas\n",
    "if 'cluster' not in X.columns:\n",
    "    X['cluster'] = 0\n",
    "    df_test['cluster'] = 0\n",
    "\n",
    "# Prédire la classe\n",
    "predictions = random_forest_model.predict(X)\n",
    "df_test['prediction'] = predictions\n",
    "df_test['prediction'] = df_test['prediction'].map({1: 'Vrai', 0: 'Faux'})\n",
    "\n",
    "# Prédire la probabilité d'appartenir à la classe 1 (\"Vrai\")\n",
    "probas = random_forest_model.predict_proba(X)\n",
    "# On prend la probabilité de la classe prédite pour chaque billet\n",
    "proba_predite = np.max(probas, axis=1)\n",
    "df_test['probabilité'] = proba_predite.round(3)  # arrondi à 3 décimales pour lisibilité\n",
    "\n",
    "# Affichage du résultat\n",
    "print(df_test[['id', 'prediction', 'probabilité']])\n"
   ]
  }
 ],
 "metadata": {
  "kernelspec": {
   "display_name": "basedata",
   "language": "python",
   "name": "python3"
  },
  "language_info": {
   "codemirror_mode": {
    "name": "ipython",
    "version": 3
   },
   "file_extension": ".py",
   "mimetype": "text/x-python",
   "name": "python",
   "nbconvert_exporter": "python",
   "pygments_lexer": "ipython3",
   "version": "3.12.3"
  }
 },
 "nbformat": 4,
 "nbformat_minor": 2
}
